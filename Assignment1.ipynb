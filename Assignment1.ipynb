{
 "cells": [
  {
   "cell_type": "markdown",
   "metadata": {},
   "source": [
    "## Assignment 1"
   ]
  },
  {
   "cell_type": "markdown",
   "metadata": {},
   "source": [
    "### Katariina Perkonoja, 514629"
   ]
  },
  {
   "cell_type": "markdown",
   "metadata": {},
   "source": [
    "#### Exercise 2"
   ]
  },
  {
   "cell_type": "markdown",
   "metadata": {},
   "source": [
    "1. Load the comma-separated data matrix (task_II_data.txt) and delete any rows\n",
    "containing nan-values in it using NumPy"
   ]
  },
  {
   "cell_type": "code",
   "execution_count": 1,
   "metadata": {},
   "outputs": [],
   "source": [
    "import pandas as pd"
   ]
  },
  {
   "cell_type": "code",
   "execution_count": 2,
   "metadata": {},
   "outputs": [],
   "source": [
    "data = pd.read_csv(\"task_II_data.txt\", header = None) # importing the original data"
   ]
  },
  {
   "cell_type": "code",
   "execution_count": 3,
   "metadata": {},
   "outputs": [
    {
     "data": {
      "text/html": [
       "<div>\n",
       "<style scoped>\n",
       "    .dataframe tbody tr th:only-of-type {\n",
       "        vertical-align: middle;\n",
       "    }\n",
       "\n",
       "    .dataframe tbody tr th {\n",
       "        vertical-align: top;\n",
       "    }\n",
       "\n",
       "    .dataframe thead th {\n",
       "        text-align: right;\n",
       "    }\n",
       "</style>\n",
       "<table border=\"1\" class=\"dataframe\">\n",
       "  <thead>\n",
       "    <tr style=\"text-align: right;\">\n",
       "      <th></th>\n",
       "      <th>0</th>\n",
       "      <th>1</th>\n",
       "      <th>2</th>\n",
       "      <th>3</th>\n",
       "    </tr>\n",
       "  </thead>\n",
       "  <tbody>\n",
       "    <tr>\n",
       "      <th>0</th>\n",
       "      <td>1.440090</td>\n",
       "      <td>1.315797</td>\n",
       "      <td>-1.203512</td>\n",
       "      <td>-0.649751</td>\n",
       "    </tr>\n",
       "    <tr>\n",
       "      <th>1</th>\n",
       "      <td>1.458460</td>\n",
       "      <td>1.120703</td>\n",
       "      <td>-2.085441</td>\n",
       "      <td>0.602395</td>\n",
       "    </tr>\n",
       "    <tr>\n",
       "      <th>2</th>\n",
       "      <td>-0.206821</td>\n",
       "      <td>1.348920</td>\n",
       "      <td>1.879070</td>\n",
       "      <td>1.280614</td>\n",
       "    </tr>\n",
       "    <tr>\n",
       "      <th>3</th>\n",
       "      <td>-0.925645</td>\n",
       "      <td>0.296470</td>\n",
       "      <td>-0.881304</td>\n",
       "      <td>-0.161541</td>\n",
       "    </tr>\n",
       "    <tr>\n",
       "      <th>4</th>\n",
       "      <td>-0.057585</td>\n",
       "      <td>1.359283</td>\n",
       "      <td>-0.903774</td>\n",
       "      <td>0.171817</td>\n",
       "    </tr>\n",
       "    <tr>\n",
       "      <th>5</th>\n",
       "      <td>-1.050013</td>\n",
       "      <td>1.423870</td>\n",
       "      <td>0.579186</td>\n",
       "      <td>0.594103</td>\n",
       "    </tr>\n",
       "    <tr>\n",
       "      <th>6</th>\n",
       "      <td>0.435374</td>\n",
       "      <td>-1.114882</td>\n",
       "      <td>-0.587617</td>\n",
       "      <td>0.584199</td>\n",
       "    </tr>\n",
       "    <tr>\n",
       "      <th>7</th>\n",
       "      <td>-1.381215</td>\n",
       "      <td>0.040591</td>\n",
       "      <td>0.517247</td>\n",
       "      <td>0.467503</td>\n",
       "    </tr>\n",
       "    <tr>\n",
       "      <th>8</th>\n",
       "      <td>0.285054</td>\n",
       "      <td>NaN</td>\n",
       "      <td>0.418673</td>\n",
       "      <td>0.094370</td>\n",
       "    </tr>\n",
       "    <tr>\n",
       "      <th>9</th>\n",
       "      <td>-0.854092</td>\n",
       "      <td>-0.303567</td>\n",
       "      <td>-1.385290</td>\n",
       "      <td>-1.870718</td>\n",
       "    </tr>\n",
       "    <tr>\n",
       "      <th>10</th>\n",
       "      <td>0.508913</td>\n",
       "      <td>-1.212994</td>\n",
       "      <td>-0.222130</td>\n",
       "      <td>0.876708</td>\n",
       "    </tr>\n",
       "    <tr>\n",
       "      <th>11</th>\n",
       "      <td>0.070049</td>\n",
       "      <td>0.586432</td>\n",
       "      <td>NaN</td>\n",
       "      <td>0.273092</td>\n",
       "    </tr>\n",
       "    <tr>\n",
       "      <th>12</th>\n",
       "      <td>-1.184449</td>\n",
       "      <td>-0.776688</td>\n",
       "      <td>0.783074</td>\n",
       "      <td>-0.148356</td>\n",
       "    </tr>\n",
       "    <tr>\n",
       "      <th>13</th>\n",
       "      <td>1.191522</td>\n",
       "      <td>0.030729</td>\n",
       "      <td>-0.121366</td>\n",
       "      <td>0.787100</td>\n",
       "    </tr>\n",
       "    <tr>\n",
       "      <th>14</th>\n",
       "      <td>1.200276</td>\n",
       "      <td>-0.964385</td>\n",
       "      <td>0.469731</td>\n",
       "      <td>-1.332405</td>\n",
       "    </tr>\n",
       "    <tr>\n",
       "      <th>15</th>\n",
       "      <td>1.445490</td>\n",
       "      <td>-1.492714</td>\n",
       "      <td>-0.704250</td>\n",
       "      <td>0.070045</td>\n",
       "    </tr>\n",
       "    <tr>\n",
       "      <th>16</th>\n",
       "      <td>-0.393206</td>\n",
       "      <td>1.124195</td>\n",
       "      <td>1.949963</td>\n",
       "      <td>1.338086</td>\n",
       "    </tr>\n",
       "    <tr>\n",
       "      <th>17</th>\n",
       "      <td>-1.239567</td>\n",
       "      <td>-1.445269</td>\n",
       "      <td>0.634815</td>\n",
       "      <td>-1.454177</td>\n",
       "    </tr>\n",
       "    <tr>\n",
       "      <th>18</th>\n",
       "      <td>0.632022</td>\n",
       "      <td>0.574225</td>\n",
       "      <td>0.772696</td>\n",
       "      <td>NaN</td>\n",
       "    </tr>\n",
       "    <tr>\n",
       "      <th>19</th>\n",
       "      <td>0.668957</td>\n",
       "      <td>0.237377</td>\n",
       "      <td>0.439019</td>\n",
       "      <td>NaN</td>\n",
       "    </tr>\n",
       "    <tr>\n",
       "      <th>20</th>\n",
       "      <td>-0.796404</td>\n",
       "      <td>0.659371</td>\n",
       "      <td>0.360395</td>\n",
       "      <td>1.332467</td>\n",
       "    </tr>\n",
       "    <tr>\n",
       "      <th>21</th>\n",
       "      <td>0.643021</td>\n",
       "      <td>-0.212411</td>\n",
       "      <td>0.402412</td>\n",
       "      <td>-1.153747</td>\n",
       "    </tr>\n",
       "    <tr>\n",
       "      <th>22</th>\n",
       "      <td>0.774216</td>\n",
       "      <td>-0.363244</td>\n",
       "      <td>0.563642</td>\n",
       "      <td>-1.670830</td>\n",
       "    </tr>\n",
       "    <tr>\n",
       "      <th>23</th>\n",
       "      <td>NaN</td>\n",
       "      <td>0.987070</td>\n",
       "      <td>0.301800</td>\n",
       "      <td>0.420581</td>\n",
       "    </tr>\n",
       "    <tr>\n",
       "      <th>24</th>\n",
       "      <td>-1.008363</td>\n",
       "      <td>-0.833774</td>\n",
       "      <td>-0.044850</td>\n",
       "      <td>0.336490</td>\n",
       "    </tr>\n",
       "  </tbody>\n",
       "</table>\n",
       "</div>"
      ],
      "text/plain": [
       "           0         1         2         3\n",
       "0   1.440090  1.315797 -1.203512 -0.649751\n",
       "1   1.458460  1.120703 -2.085441  0.602395\n",
       "2  -0.206821  1.348920  1.879070  1.280614\n",
       "3  -0.925645  0.296470 -0.881304 -0.161541\n",
       "4  -0.057585  1.359283 -0.903774  0.171817\n",
       "5  -1.050013  1.423870  0.579186  0.594103\n",
       "6   0.435374 -1.114882 -0.587617  0.584199\n",
       "7  -1.381215  0.040591  0.517247  0.467503\n",
       "8   0.285054       NaN  0.418673  0.094370\n",
       "9  -0.854092 -0.303567 -1.385290 -1.870718\n",
       "10  0.508913 -1.212994 -0.222130  0.876708\n",
       "11  0.070049  0.586432       NaN  0.273092\n",
       "12 -1.184449 -0.776688  0.783074 -0.148356\n",
       "13  1.191522  0.030729 -0.121366  0.787100\n",
       "14  1.200276 -0.964385  0.469731 -1.332405\n",
       "15  1.445490 -1.492714 -0.704250  0.070045\n",
       "16 -0.393206  1.124195  1.949963  1.338086\n",
       "17 -1.239567 -1.445269  0.634815 -1.454177\n",
       "18  0.632022  0.574225  0.772696       NaN\n",
       "19  0.668957  0.237377  0.439019       NaN\n",
       "20 -0.796404  0.659371  0.360395  1.332467\n",
       "21  0.643021 -0.212411  0.402412 -1.153747\n",
       "22  0.774216 -0.363244  0.563642 -1.670830\n",
       "23       NaN  0.987070  0.301800  0.420581\n",
       "24 -1.008363 -0.833774 -0.044850  0.336490"
      ]
     },
     "execution_count": 3,
     "metadata": {},
     "output_type": "execute_result"
    }
   ],
   "source": [
    "data"
   ]
  },
  {
   "cell_type": "code",
   "execution_count": 4,
   "metadata": {},
   "outputs": [],
   "source": [
    "import numpy as np"
   ]
  },
  {
   "cell_type": "code",
   "execution_count": 5,
   "metadata": {},
   "outputs": [],
   "source": [
    "data = data[~np.isnan(data).any(axis=1)] # removing NaN values"
   ]
  },
  {
   "cell_type": "code",
   "execution_count": 6,
   "metadata": {},
   "outputs": [
    {
     "data": {
      "text/html": [
       "<div>\n",
       "<style scoped>\n",
       "    .dataframe tbody tr th:only-of-type {\n",
       "        vertical-align: middle;\n",
       "    }\n",
       "\n",
       "    .dataframe tbody tr th {\n",
       "        vertical-align: top;\n",
       "    }\n",
       "\n",
       "    .dataframe thead th {\n",
       "        text-align: right;\n",
       "    }\n",
       "</style>\n",
       "<table border=\"1\" class=\"dataframe\">\n",
       "  <thead>\n",
       "    <tr style=\"text-align: right;\">\n",
       "      <th></th>\n",
       "      <th>0</th>\n",
       "      <th>1</th>\n",
       "      <th>2</th>\n",
       "      <th>3</th>\n",
       "    </tr>\n",
       "  </thead>\n",
       "  <tbody>\n",
       "    <tr>\n",
       "      <th>0</th>\n",
       "      <td>1.440090</td>\n",
       "      <td>1.315797</td>\n",
       "      <td>-1.203512</td>\n",
       "      <td>-0.649751</td>\n",
       "    </tr>\n",
       "    <tr>\n",
       "      <th>1</th>\n",
       "      <td>1.458460</td>\n",
       "      <td>1.120703</td>\n",
       "      <td>-2.085441</td>\n",
       "      <td>0.602395</td>\n",
       "    </tr>\n",
       "    <tr>\n",
       "      <th>2</th>\n",
       "      <td>-0.206821</td>\n",
       "      <td>1.348920</td>\n",
       "      <td>1.879070</td>\n",
       "      <td>1.280614</td>\n",
       "    </tr>\n",
       "    <tr>\n",
       "      <th>3</th>\n",
       "      <td>-0.925645</td>\n",
       "      <td>0.296470</td>\n",
       "      <td>-0.881304</td>\n",
       "      <td>-0.161541</td>\n",
       "    </tr>\n",
       "    <tr>\n",
       "      <th>4</th>\n",
       "      <td>-0.057585</td>\n",
       "      <td>1.359283</td>\n",
       "      <td>-0.903774</td>\n",
       "      <td>0.171817</td>\n",
       "    </tr>\n",
       "    <tr>\n",
       "      <th>5</th>\n",
       "      <td>-1.050013</td>\n",
       "      <td>1.423870</td>\n",
       "      <td>0.579186</td>\n",
       "      <td>0.594103</td>\n",
       "    </tr>\n",
       "    <tr>\n",
       "      <th>6</th>\n",
       "      <td>0.435374</td>\n",
       "      <td>-1.114882</td>\n",
       "      <td>-0.587617</td>\n",
       "      <td>0.584199</td>\n",
       "    </tr>\n",
       "    <tr>\n",
       "      <th>7</th>\n",
       "      <td>-1.381215</td>\n",
       "      <td>0.040591</td>\n",
       "      <td>0.517247</td>\n",
       "      <td>0.467503</td>\n",
       "    </tr>\n",
       "    <tr>\n",
       "      <th>9</th>\n",
       "      <td>-0.854092</td>\n",
       "      <td>-0.303567</td>\n",
       "      <td>-1.385290</td>\n",
       "      <td>-1.870718</td>\n",
       "    </tr>\n",
       "    <tr>\n",
       "      <th>10</th>\n",
       "      <td>0.508913</td>\n",
       "      <td>-1.212994</td>\n",
       "      <td>-0.222130</td>\n",
       "      <td>0.876708</td>\n",
       "    </tr>\n",
       "    <tr>\n",
       "      <th>12</th>\n",
       "      <td>-1.184449</td>\n",
       "      <td>-0.776688</td>\n",
       "      <td>0.783074</td>\n",
       "      <td>-0.148356</td>\n",
       "    </tr>\n",
       "    <tr>\n",
       "      <th>13</th>\n",
       "      <td>1.191522</td>\n",
       "      <td>0.030729</td>\n",
       "      <td>-0.121366</td>\n",
       "      <td>0.787100</td>\n",
       "    </tr>\n",
       "    <tr>\n",
       "      <th>14</th>\n",
       "      <td>1.200276</td>\n",
       "      <td>-0.964385</td>\n",
       "      <td>0.469731</td>\n",
       "      <td>-1.332405</td>\n",
       "    </tr>\n",
       "    <tr>\n",
       "      <th>15</th>\n",
       "      <td>1.445490</td>\n",
       "      <td>-1.492714</td>\n",
       "      <td>-0.704250</td>\n",
       "      <td>0.070045</td>\n",
       "    </tr>\n",
       "    <tr>\n",
       "      <th>16</th>\n",
       "      <td>-0.393206</td>\n",
       "      <td>1.124195</td>\n",
       "      <td>1.949963</td>\n",
       "      <td>1.338086</td>\n",
       "    </tr>\n",
       "    <tr>\n",
       "      <th>17</th>\n",
       "      <td>-1.239567</td>\n",
       "      <td>-1.445269</td>\n",
       "      <td>0.634815</td>\n",
       "      <td>-1.454177</td>\n",
       "    </tr>\n",
       "    <tr>\n",
       "      <th>20</th>\n",
       "      <td>-0.796404</td>\n",
       "      <td>0.659371</td>\n",
       "      <td>0.360395</td>\n",
       "      <td>1.332467</td>\n",
       "    </tr>\n",
       "    <tr>\n",
       "      <th>21</th>\n",
       "      <td>0.643021</td>\n",
       "      <td>-0.212411</td>\n",
       "      <td>0.402412</td>\n",
       "      <td>-1.153747</td>\n",
       "    </tr>\n",
       "    <tr>\n",
       "      <th>22</th>\n",
       "      <td>0.774216</td>\n",
       "      <td>-0.363244</td>\n",
       "      <td>0.563642</td>\n",
       "      <td>-1.670830</td>\n",
       "    </tr>\n",
       "    <tr>\n",
       "      <th>24</th>\n",
       "      <td>-1.008363</td>\n",
       "      <td>-0.833774</td>\n",
       "      <td>-0.044850</td>\n",
       "      <td>0.336490</td>\n",
       "    </tr>\n",
       "  </tbody>\n",
       "</table>\n",
       "</div>"
      ],
      "text/plain": [
       "           0         1         2         3\n",
       "0   1.440090  1.315797 -1.203512 -0.649751\n",
       "1   1.458460  1.120703 -2.085441  0.602395\n",
       "2  -0.206821  1.348920  1.879070  1.280614\n",
       "3  -0.925645  0.296470 -0.881304 -0.161541\n",
       "4  -0.057585  1.359283 -0.903774  0.171817\n",
       "5  -1.050013  1.423870  0.579186  0.594103\n",
       "6   0.435374 -1.114882 -0.587617  0.584199\n",
       "7  -1.381215  0.040591  0.517247  0.467503\n",
       "9  -0.854092 -0.303567 -1.385290 -1.870718\n",
       "10  0.508913 -1.212994 -0.222130  0.876708\n",
       "12 -1.184449 -0.776688  0.783074 -0.148356\n",
       "13  1.191522  0.030729 -0.121366  0.787100\n",
       "14  1.200276 -0.964385  0.469731 -1.332405\n",
       "15  1.445490 -1.492714 -0.704250  0.070045\n",
       "16 -0.393206  1.124195  1.949963  1.338086\n",
       "17 -1.239567 -1.445269  0.634815 -1.454177\n",
       "20 -0.796404  0.659371  0.360395  1.332467\n",
       "21  0.643021 -0.212411  0.402412 -1.153747\n",
       "22  0.774216 -0.363244  0.563642 -1.670830\n",
       "24 -1.008363 -0.833774 -0.044850  0.336490"
      ]
     },
     "execution_count": 6,
     "metadata": {},
     "output_type": "execute_result"
    }
   ],
   "source": [
    "data"
   ]
  },
  {
   "cell_type": "markdown",
   "metadata": {},
   "source": [
    "2. Calculate the mean and standard deviation of each column in the edited data matrix\n",
    "(that is, the matrix without rows containing nan-values)"
   ]
  },
  {
   "cell_type": "code",
   "execution_count": 7,
   "metadata": {},
   "outputs": [
    {
     "data": {
      "text/plain": [
       "0    5.000012e-12\n",
       "1    1.000004e-11\n",
       "2    1.000000e-11\n",
       "3    9.999995e-12\n",
       "dtype: float64"
      ]
     },
     "execution_count": 7,
     "metadata": {},
     "output_type": "execute_result"
    }
   ],
   "source": [
    "np.mean(data) # calculating column means"
   ]
  },
  {
   "cell_type": "code",
   "execution_count": 8,
   "metadata": {},
   "outputs": [
    {
     "data": {
      "text/plain": [
       "0    1.0\n",
       "1    1.0\n",
       "2    1.0\n",
       "3    1.0\n",
       "dtype: float64"
      ]
     },
     "execution_count": 8,
     "metadata": {},
     "output_type": "execute_result"
    }
   ],
   "source": [
    "np.std(data) # calculating column standard deviations"
   ]
  },
  {
   "cell_type": "markdown",
   "metadata": {},
   "source": [
    "3. Select the 2nd row of the edited data matrix and print the mean value of this row"
   ]
  },
  {
   "cell_type": "code",
   "execution_count": 9,
   "metadata": {},
   "outputs": [
    {
     "data": {
      "text/plain": [
       "0.274028979625"
      ]
     },
     "execution_count": 9,
     "metadata": {},
     "output_type": "execute_result"
    }
   ],
   "source": [
    "np.mean(data.loc[1,]) # calculating the mean of the second row"
   ]
  },
  {
   "cell_type": "markdown",
   "metadata": {},
   "source": [
    "4. Set all values of the 3rd row of the edited data matrix into 1. Print the 3rd row before\n",
    "and after the edit"
   ]
  },
  {
   "cell_type": "code",
   "execution_count": 10,
   "metadata": {},
   "outputs": [
    {
     "data": {
      "text/plain": [
       "0   -0.206821\n",
       "1    1.348920\n",
       "2    1.879070\n",
       "3    1.280614\n",
       "Name: 2, dtype: float64"
      ]
     },
     "execution_count": 10,
     "metadata": {},
     "output_type": "execute_result"
    }
   ],
   "source": [
    "data.loc[2,] # printing the 3rd row before"
   ]
  },
  {
   "cell_type": "code",
   "execution_count": 11,
   "metadata": {},
   "outputs": [
    {
     "name": "stderr",
     "output_type": "stream",
     "text": [
      "C:\\Users\\Katski\\Anaconda3\\lib\\site-packages\\pandas\\core\\indexing.py:189: SettingWithCopyWarning: \n",
      "A value is trying to be set on a copy of a slice from a DataFrame\n",
      "\n",
      "See the caveats in the documentation: http://pandas.pydata.org/pandas-docs/stable/indexing.html#indexing-view-versus-copy\n",
      "  self._setitem_with_indexer(indexer, value)\n",
      "C:\\Users\\Katski\\Anaconda3\\lib\\site-packages\\ipykernel_launcher.py:1: SettingWithCopyWarning: \n",
      "A value is trying to be set on a copy of a slice from a DataFrame\n",
      "\n",
      "See the caveats in the documentation: http://pandas.pydata.org/pandas-docs/stable/indexing.html#indexing-view-versus-copy\n",
      "  \"\"\"Entry point for launching an IPython kernel.\n"
     ]
    }
   ],
   "source": [
    "data.loc[2,] = 1 # setting all the values on the third row into 1 in original edited data (usually not recommended way to do this)"
   ]
  },
  {
   "cell_type": "code",
   "execution_count": 12,
   "metadata": {},
   "outputs": [
    {
     "data": {
      "text/plain": [
       "0    1.0\n",
       "1    1.0\n",
       "2    1.0\n",
       "3    1.0\n",
       "Name: 2, dtype: float64"
      ]
     },
     "execution_count": 12,
     "metadata": {},
     "output_type": "execute_result"
    }
   ],
   "source": [
    "data.loc[2,] # printing the 3rd row after the change"
   ]
  },
  {
   "cell_type": "markdown",
   "metadata": {},
   "source": [
    "5. Find all row indices of the edited data matrix, where the 2nd column has a value\n",
    "greater or equal to 0.5 and print the corresponding rows of the edited data matrix"
   ]
  },
  {
   "cell_type": "code",
   "execution_count": 13,
   "metadata": {},
   "outputs": [
    {
     "data": {
      "text/plain": [
       "array([ 0,  1,  2,  4,  5, 14, 16], dtype=int64)"
      ]
     },
     "execution_count": 13,
     "metadata": {},
     "output_type": "execute_result"
    }
   ],
   "source": [
    "indices = np.concatenate(np.where(data[1] >= 0.5)) # saving indices\n",
    "indices # printing indices"
   ]
  },
  {
   "cell_type": "code",
   "execution_count": 14,
   "metadata": {},
   "outputs": [
    {
     "data": {
      "text/html": [
       "<div>\n",
       "<style scoped>\n",
       "    .dataframe tbody tr th:only-of-type {\n",
       "        vertical-align: middle;\n",
       "    }\n",
       "\n",
       "    .dataframe tbody tr th {\n",
       "        vertical-align: top;\n",
       "    }\n",
       "\n",
       "    .dataframe thead th {\n",
       "        text-align: right;\n",
       "    }\n",
       "</style>\n",
       "<table border=\"1\" class=\"dataframe\">\n",
       "  <thead>\n",
       "    <tr style=\"text-align: right;\">\n",
       "      <th></th>\n",
       "      <th>0</th>\n",
       "      <th>1</th>\n",
       "      <th>2</th>\n",
       "      <th>3</th>\n",
       "    </tr>\n",
       "  </thead>\n",
       "  <tbody>\n",
       "    <tr>\n",
       "      <th>0</th>\n",
       "      <td>1.440090</td>\n",
       "      <td>1.315797</td>\n",
       "      <td>-1.203512</td>\n",
       "      <td>-0.649751</td>\n",
       "    </tr>\n",
       "    <tr>\n",
       "      <th>1</th>\n",
       "      <td>1.458460</td>\n",
       "      <td>1.120703</td>\n",
       "      <td>-2.085441</td>\n",
       "      <td>0.602395</td>\n",
       "    </tr>\n",
       "    <tr>\n",
       "      <th>2</th>\n",
       "      <td>1.000000</td>\n",
       "      <td>1.000000</td>\n",
       "      <td>1.000000</td>\n",
       "      <td>1.000000</td>\n",
       "    </tr>\n",
       "    <tr>\n",
       "      <th>4</th>\n",
       "      <td>-0.057585</td>\n",
       "      <td>1.359283</td>\n",
       "      <td>-0.903774</td>\n",
       "      <td>0.171817</td>\n",
       "    </tr>\n",
       "    <tr>\n",
       "      <th>5</th>\n",
       "      <td>-1.050013</td>\n",
       "      <td>1.423870</td>\n",
       "      <td>0.579186</td>\n",
       "      <td>0.594103</td>\n",
       "    </tr>\n",
       "    <tr>\n",
       "      <th>14</th>\n",
       "      <td>1.200276</td>\n",
       "      <td>-0.964385</td>\n",
       "      <td>0.469731</td>\n",
       "      <td>-1.332405</td>\n",
       "    </tr>\n",
       "    <tr>\n",
       "      <th>16</th>\n",
       "      <td>-0.393206</td>\n",
       "      <td>1.124195</td>\n",
       "      <td>1.949963</td>\n",
       "      <td>1.338086</td>\n",
       "    </tr>\n",
       "  </tbody>\n",
       "</table>\n",
       "</div>"
      ],
      "text/plain": [
       "           0         1         2         3\n",
       "0   1.440090  1.315797 -1.203512 -0.649751\n",
       "1   1.458460  1.120703 -2.085441  0.602395\n",
       "2   1.000000  1.000000  1.000000  1.000000\n",
       "4  -0.057585  1.359283 -0.903774  0.171817\n",
       "5  -1.050013  1.423870  0.579186  0.594103\n",
       "14  1.200276 -0.964385  0.469731 -1.332405\n",
       "16 -0.393206  1.124195  1.949963  1.338086"
      ]
     },
     "execution_count": 14,
     "metadata": {},
     "output_type": "execute_result"
    }
   ],
   "source": [
    "data.loc[indices,] # printing corresponding rows"
   ]
  },
  {
   "cell_type": "markdown",
   "metadata": {},
   "source": [
    "#### Exercise 3"
   ]
  },
  {
   "cell_type": "markdown",
   "metadata": {},
   "source": [
    "1. Load the comma-separated data matrix (task_III_data.txt) and calculate linear and\n",
    "cubic interpolation functions using the loaded data (first column is the x-values,\n",
    "second y-values). Use SciPy’s interp1d-function"
   ]
  },
  {
   "cell_type": "code",
   "execution_count": 15,
   "metadata": {
    "scrolled": true
   },
   "outputs": [
    {
     "data": {
      "text/html": [
       "<div>\n",
       "<style scoped>\n",
       "    .dataframe tbody tr th:only-of-type {\n",
       "        vertical-align: middle;\n",
       "    }\n",
       "\n",
       "    .dataframe tbody tr th {\n",
       "        vertical-align: top;\n",
       "    }\n",
       "\n",
       "    .dataframe thead th {\n",
       "        text-align: right;\n",
       "    }\n",
       "</style>\n",
       "<table border=\"1\" class=\"dataframe\">\n",
       "  <thead>\n",
       "    <tr style=\"text-align: right;\">\n",
       "      <th></th>\n",
       "      <th>0</th>\n",
       "      <th>1</th>\n",
       "    </tr>\n",
       "  </thead>\n",
       "  <tbody>\n",
       "    <tr>\n",
       "      <th>0</th>\n",
       "      <td>0.0</td>\n",
       "      <td>1.000000</td>\n",
       "    </tr>\n",
       "    <tr>\n",
       "      <th>1</th>\n",
       "      <td>4.0</td>\n",
       "      <td>-1.719112</td>\n",
       "    </tr>\n",
       "    <tr>\n",
       "      <th>2</th>\n",
       "      <td>8.0</td>\n",
       "      <td>2.655121</td>\n",
       "    </tr>\n",
       "    <tr>\n",
       "      <th>3</th>\n",
       "      <td>12.0</td>\n",
       "      <td>-2.030805</td>\n",
       "    </tr>\n",
       "    <tr>\n",
       "      <th>4</th>\n",
       "      <td>16.0</td>\n",
       "      <td>-1.561373</td>\n",
       "    </tr>\n",
       "    <tr>\n",
       "      <th>5</th>\n",
       "      <td>20.0</td>\n",
       "      <td>2.720988</td>\n",
       "    </tr>\n",
       "    <tr>\n",
       "      <th>6</th>\n",
       "      <td>24.0</td>\n",
       "      <td>-1.419299</td>\n",
       "    </tr>\n",
       "    <tr>\n",
       "      <th>7</th>\n",
       "      <td>28.0</td>\n",
       "      <td>1.199174</td>\n",
       "    </tr>\n",
       "    <tr>\n",
       "      <th>8</th>\n",
       "      <td>32.0</td>\n",
       "      <td>1.880148</td>\n",
       "    </tr>\n",
       "    <tr>\n",
       "      <th>9</th>\n",
       "      <td>36.0</td>\n",
       "      <td>-1.112410</td>\n",
       "    </tr>\n",
       "    <tr>\n",
       "      <th>10</th>\n",
       "      <td>40.0</td>\n",
       "      <td>1.215993</td>\n",
       "    </tr>\n",
       "  </tbody>\n",
       "</table>\n",
       "</div>"
      ],
      "text/plain": [
       "       0         1\n",
       "0    0.0  1.000000\n",
       "1    4.0 -1.719112\n",
       "2    8.0  2.655121\n",
       "3   12.0 -2.030805\n",
       "4   16.0 -1.561373\n",
       "5   20.0  2.720988\n",
       "6   24.0 -1.419299\n",
       "7   28.0  1.199174\n",
       "8   32.0  1.880148\n",
       "9   36.0 -1.112410\n",
       "10  40.0  1.215993"
      ]
     },
     "execution_count": 15,
     "metadata": {},
     "output_type": "execute_result"
    }
   ],
   "source": [
    "data2 = pd.read_csv(\"task_III_data.txt\", header = None) # importing original data\n",
    "data2"
   ]
  },
  {
   "cell_type": "code",
   "execution_count": 16,
   "metadata": {},
   "outputs": [],
   "source": [
    "from scipy.interpolate import interp1d"
   ]
  },
  {
   "cell_type": "code",
   "execution_count": 17,
   "metadata": {},
   "outputs": [],
   "source": [
    "f = interp1d(data2[0], data2[1]) # creating linear interpolation function\n",
    "f2 = interp1d(data2[0], data2[1], kind = 'cubic') #creating cubic interpolation function"
   ]
  },
  {
   "cell_type": "markdown",
   "metadata": {},
   "source": [
    "2. Plot the loaded data and both interpolated functions. For figure title, x- axis, y-axis and\n",
    "legend, set the following labels (help can be found from the documentation of\n",
    "interp1d-function):\n",
    "\n",
    "    title text: “Input data and interpolated functions”\n",
    "\n",
    "    x-axis text: “Input value”\n",
    "\n",
    "    y-axis text: “Function value”\n",
    "\n",
    "    legend: “data”, “linear”, “cubic”"
   ]
  },
  {
   "cell_type": "code",
   "execution_count": 18,
   "metadata": {},
   "outputs": [],
   "source": [
    "import matplotlib.pyplot as plt"
   ]
  },
  {
   "cell_type": "code",
   "execution_count": 19,
   "metadata": {
    "scrolled": true
   },
   "outputs": [
    {
     "data": {
      "image/png": "[encoded data removed]",
      "text/plain": [
       "<Figure size 432x288 with 1 Axes>"
      ]
     },
     "metadata": {
      "needs_background": "light"
     },
     "output_type": "display_data"
    }
   ],
   "source": [
    "xnew = np.linspace(0, 40, 41) # simulating new values\n",
    "plt.plot(data2[0], data2[1], 'o', xnew, f(xnew), '-', xnew, f2(xnew), '--') # creating the plot\n",
    "plt.title('Input data and interpolated functions') # setting title\n",
    "plt.xlabel('Input value') # setting x-axis text\n",
    "plt.ylabel('Function value') # setting y-axis text\n",
    "plt.legend(['data', 'linear', 'cubic'], loc='best') # setting legend texts\n",
    "plt.show() # display figure and return to the ipython prompt"
   ]
  }
 ],
 "metadata": {
  "kernelspec": {
   "display_name": "Python 3",
   "language": "python",
   "name": "python3"
  },
  "language_info": {
   "codemirror_mode": {
    "name": "ipython",
    "version": 3
   },
   "file_extension": ".py",
   "mimetype": "text/x-python",
   "name": "python",
   "nbconvert_exporter": "python",
   "pygments_lexer": "ipython3",
   "version": "3.7.0"
  }
 },
 "nbformat": 4,
 "nbformat_minor": 2
}
